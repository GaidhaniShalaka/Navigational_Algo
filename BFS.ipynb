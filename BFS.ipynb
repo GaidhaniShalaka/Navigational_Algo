{
  "nbformat": 4,
  "nbformat_minor": 0,
  "metadata": {
    "colab": {
      "provenance": []
    },
    "kernelspec": {
      "name": "python3",
      "display_name": "Python 3"
    },
    "language_info": {
      "name": "python"
    }
  },
  "cells": [
    {
      "cell_type": "code",
      "execution_count": 6,
      "metadata": {
        "id": "yatxF7X73BrF"
      },
      "outputs": [],
      "source": [
        "import matplotlib.pyplot as plt"
      ]
    },
    {
      "cell_type": "code",
      "source": [
        "from collections import deque\n",
        "\n",
        "def bfs(map_data, start_x, start_y, goal_x, goal_y):\n",
        "    rows = len(map_data)\n",
        "    cols = len(map_data[0])\n",
        "\n",
        "    # Define directions: up, down, left, right\n",
        "    directions = [(-1, 0), (1, 0), (0, -1), (0, 1)]\n",
        "\n",
        "    # Initialize visited set and parent dictionary\n",
        "    visited = set()\n",
        "    parent = {}\n",
        "\n",
        "    # Queue for BFS\n",
        "    queue = deque([(start_x, start_y)])\n",
        "\n",
        "    # Perform BFS\n",
        "    while queue:\n",
        "        current_x, current_y = queue.popleft()\n",
        "        if (current_x, current_y) == (goal_x, goal_y):\n",
        "            break  # Goal reached\n",
        "\n",
        "        for dx, dy in directions:\n",
        "            next_x, next_y = current_x + dx, current_y + dy\n",
        "            if 0 <= next_x < cols and 0 <= next_y < rows and map_data[next_y][next_x] == 0 and (next_x, next_y) not in visited:\n",
        "                queue.append((next_x, next_y))\n",
        "                visited.add((next_x, next_y))\n",
        "                parent[(next_x, next_y)] = (current_x, current_y)\n",
        "\n",
        "    # Reconstruct path if goal is reachable\n",
        "    if (goal_x, goal_y) in parent:\n",
        "        path = []\n",
        "        x, y = goal_x, goal_y\n",
        "        while (x, y) != (start_x, start_y):\n",
        "            path.append((x, y))\n",
        "            x, y = parent[(x, y)]\n",
        "        path.append((start_x, start_y))\n",
        "        return path[::-1]  # Reverse for start to goal order\n",
        "    else:\n",
        "        return None  # No path found\n",
        "\n",
        "# Example usage\n",
        "map_data = [\n",
        "    [0, 0, 0, 0, 0],\n",
        "    [0, 1, 1, 0, 0],\n",
        "    [0, 0, 0, 0, 0],\n",
        "    [0, 1, 1, 1, 0],\n",
        "    [0, 0, 0, 0, 0]\n",
        "]\n",
        "start_x, start_y = 0, 0\n",
        "goal_x, goal_y = 4, 4\n",
        "\n",
        "# Call BFS and get path\n",
        "path = bfs(map_data, start_x, start_y, goal_x, goal_y)\n",
        "print(\"Path found:\", path)\n"
      ],
      "metadata": {
        "colab": {
          "base_uri": "https://localhost:8080/"
        },
        "id": "4iM0QnL-3Nck",
        "outputId": "29110521-3dc4-49cd-f09a-801dc0188cdd"
      },
      "execution_count": 7,
      "outputs": [
        {
          "output_type": "stream",
          "name": "stdout",
          "text": [
            "Path found: [(0, 0), (1, 0), (2, 0), (3, 0), (4, 0), (4, 1), (4, 2), (4, 3), (4, 4)]\n"
          ]
        }
      ]
    }
  ]
}